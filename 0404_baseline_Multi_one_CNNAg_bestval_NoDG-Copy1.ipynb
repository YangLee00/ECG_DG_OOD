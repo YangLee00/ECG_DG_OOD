{
 "cells": [
  {
   "cell_type": "code",
   "execution_count": 1,
   "id": "341f017e",
   "metadata": {},
   "outputs": [
    {
     "name": "stdout",
     "output_type": "stream",
     "text": [
      "\u001b[1m\u001b[37mubuntu                    \u001b[m  Tue Apr  4 23:21:32 2023  \u001b[1m\u001b[30m510.47.03\u001b[m\r\n",
      "\u001b[36m[0]\u001b[m \u001b[34mNVIDIA GeForce RTX 3090\u001b[m |\u001b[31m 30'C\u001b[m, \u001b[32m  0 %\u001b[m | \u001b[36m\u001b[1m\u001b[33m  308\u001b[m / \u001b[33m24576\u001b[m MB |\r\n",
      "\u001b[36m[1]\u001b[m \u001b[34mNVIDIA GeForce RTX 3090\u001b[m |\u001b[1m\u001b[31m 54'C\u001b[m, \u001b[32m 14 %\u001b[m | \u001b[36m\u001b[1m\u001b[33m16032\u001b[m / \u001b[33m24576\u001b[m MB | \u001b[1m\u001b[30myuzhenqin\u001b[m(\u001b[33m15719M\u001b[m)\r\n",
      "\u001b[36m[2]\u001b[m \u001b[34mNVIDIA GeForce RTX 3090\u001b[m |\u001b[31m 29'C\u001b[m, \u001b[32m  0 %\u001b[m | \u001b[36m\u001b[1m\u001b[33m  308\u001b[m / \u001b[33m24576\u001b[m MB |\r\n",
      "\u001b[36m[3]\u001b[m \u001b[34mNVIDIA GeForce RTX 3090\u001b[m |\u001b[31m 28'C\u001b[m, \u001b[32m  0 %\u001b[m | \u001b[36m\u001b[1m\u001b[33m  308\u001b[m / \u001b[33m24576\u001b[m MB |\r\n",
      "\u001b[36m[4]\u001b[m \u001b[34mNVIDIA GeForce RTX 3090\u001b[m |\u001b[1m\u001b[31m 54'C\u001b[m, \u001b[32m  0 %\u001b[m | \u001b[36m\u001b[1m\u001b[33m14812\u001b[m / \u001b[33m24576\u001b[m MB | \u001b[1m\u001b[30myuzhenqin\u001b[m(\u001b[33m14499M\u001b[m)\r\n",
      "\u001b[36m[5]\u001b[m \u001b[34mNVIDIA GeForce RTX 3090\u001b[m |\u001b[31m 32'C\u001b[m, \u001b[32m  0 %\u001b[m | \u001b[36m\u001b[1m\u001b[33m  308\u001b[m / \u001b[33m24576\u001b[m MB |\r\n",
      "\u001b[36m[6]\u001b[m \u001b[34mNVIDIA GeForce RTX 3090\u001b[m |\u001b[1m\u001b[31m 51'C\u001b[m, \u001b[32m  0 %\u001b[m | \u001b[36m\u001b[1m\u001b[33m13546\u001b[m / \u001b[33m24576\u001b[m MB | \u001b[1m\u001b[30myuzhenqin\u001b[m(\u001b[33m13233M\u001b[m)\r\n",
      "\u001b[36m[7]\u001b[m \u001b[34mNVIDIA GeForce RTX 3090\u001b[m |\u001b[31m 30'C\u001b[m, \u001b[32m  0 %\u001b[m | \u001b[36m\u001b[1m\u001b[33m  308\u001b[m / \u001b[33m24576\u001b[m MB |\r\n"
     ]
    }
   ],
   "source": [
    "!gpustat"
   ]
  },
  {
   "cell_type": "code",
   "execution_count": null,
   "id": "468b90df",
   "metadata": {
    "scrolled": true
   },
   "outputs": [
    {
     "name": "stdout",
     "output_type": "stream",
     "text": [
      "ok\n",
      "train data B\n",
      "train data size : 5501\n",
      "train label class :  [ 742.  859. 3900. 5501.    0.    0.    0.    0.]\n",
      "train data N\n",
      "train data size : 8516\n",
      "train label class :  [1462. 1769. 5285.    0. 8516.    0.    0.    0.]\n",
      "train data H\n",
      "train data size : 20616\n",
      "train label class :  [11152.   557.  8907.     0.     0. 20616.     0.     0.]\n",
      "train data A\n",
      "train data size : 8274\n",
      "train label class :  [1393.  480. 6401.    0.    0.    0. 8274.    0.]\n",
      "train data L\n",
      "train data size : 16824\n",
      "train label class :  [13511.  1158.  2155.     0.     0.     0.     0. 16824.]\n",
      "total train data shape =  (59731, 1000, 1)\n",
      "total train label shape =  (59731, 8)\n",
      "total train data class =  [28260.  4823. 26648.  5501.  8516. 20616.  8274. 16824.]\n",
      "val data B\n",
      "val data size : 1376\n",
      "val label class :  [176. 239. 961.]\n",
      "val data N\n",
      "val data size : 2130\n",
      "val label class :  [ 364.  456. 1310.]\n",
      "val data H\n",
      "val data size : 5154\n",
      "val label class :  [2753.  118. 2283.]\n",
      "val data A\n",
      "val data size : 2069\n",
      "val label class :  [ 359.   90. 1620.]\n",
      "val data L\n",
      "val data size : 4206\n",
      "val label class :  [3237.  356.  613.]\n",
      "total val data shape =  (14935, 1000, 1)\n",
      "total val label shape =  (14935, 3)\n",
      "total val data class =  [6889. 1259. 6787.]\n",
      "test data T\n",
      "test data size : 8249\n",
      "test label class :  [5076.  758. 2415.]\n",
      "total test data shape =  (8249, 1000, 1)\n",
      "total test label shape =  (8249, 3)\n",
      "total test data class =  [5076.  758. 2415.]\n",
      "base_model=cnn_Ag\n",
      "_____________________________________\n",
      " \n"
     ]
    },
    {
     "name": "stderr",
     "output_type": "stream",
     "text": [
      "epoch 0 loss: 0.5190: 100%|████████████████████████████████████| 467/467 [00:27<00:00, 17.05it/s]\n",
      "epoch 0 loss: 0.5038: 100%|████████████████████████████████████| 117/117 [00:02<00:00, 57.07it/s]\n"
     ]
    },
    {
     "name": "stdout",
     "output_type": "stream",
     "text": [
      "780\n",
      "_____________________________________\n",
      " \n"
     ]
    },
    {
     "name": "stderr",
     "output_type": "stream",
     "text": [
      "epoch 1 loss: 0.4584: 100%|████████████████████████████████████| 467/467 [00:26<00:00, 17.91it/s]\n",
      "epoch 1 loss: 0.6387: 100%|████████████████████████████████████| 117/117 [00:02<00:00, 50.46it/s]\n"
     ]
    },
    {
     "name": "stdout",
     "output_type": "stream",
     "text": [
      "713\n",
      "_____________________________________\n",
      " \n"
     ]
    },
    {
     "name": "stderr",
     "output_type": "stream",
     "text": [
      "epoch 2 loss: 0.4604: 100%|████████████████████████████████████| 467/467 [00:25<00:00, 18.00it/s]\n",
      "epoch 2 loss: 0.4291: 100%|████████████████████████████████████| 117/117 [00:02<00:00, 55.08it/s]\n"
     ]
    },
    {
     "name": "stdout",
     "output_type": "stream",
     "text": [
      "821\n",
      "_____________________________________\n",
      " \n"
     ]
    },
    {
     "name": "stderr",
     "output_type": "stream",
     "text": [
      "epoch 3 loss: 0.4111: 100%|████████████████████████████████████| 467/467 [00:26<00:00, 17.60it/s]\n",
      "epoch 3 loss: 0.4227: 100%|████████████████████████████████████| 117/117 [00:02<00:00, 54.85it/s]\n"
     ]
    },
    {
     "name": "stdout",
     "output_type": "stream",
     "text": [
      "823\n",
      "_____________________________________\n",
      " \n"
     ]
    },
    {
     "name": "stderr",
     "output_type": "stream",
     "text": [
      "epoch 4 loss: 0.4194: 100%|████████████████████████████████████| 467/467 [00:26<00:00, 17.66it/s]\n",
      "epoch 4 loss: 0.4436: 100%|████████████████████████████████████| 117/117 [00:01<00:00, 61.17it/s]\n"
     ]
    },
    {
     "name": "stdout",
     "output_type": "stream",
     "text": [
      "806\n",
      "_____________________________________\n",
      " \n"
     ]
    },
    {
     "name": "stderr",
     "output_type": "stream",
     "text": [
      "epoch 5 loss: 0.3779: 100%|████████████████████████████████████| 467/467 [00:26<00:00, 17.58it/s]\n",
      "epoch 5 loss: 0.4162: 100%|████████████████████████████████████| 117/117 [00:02<00:00, 53.01it/s]\n"
     ]
    },
    {
     "name": "stdout",
     "output_type": "stream",
     "text": [
      "828\n",
      "_____________________________________\n",
      " \n"
     ]
    },
    {
     "name": "stderr",
     "output_type": "stream",
     "text": [
      "epoch 6 loss: 0.4103: 100%|████████████████████████████████████| 467/467 [00:26<00:00, 17.77it/s]\n",
      "epoch 6 loss: 0.4242: 100%|████████████████████████████████████| 117/117 [00:02<00:00, 53.19it/s]\n"
     ]
    },
    {
     "name": "stdout",
     "output_type": "stream",
     "text": [
      "823\n",
      "_____________________________________\n",
      " \n"
     ]
    },
    {
     "name": "stderr",
     "output_type": "stream",
     "text": [
      "epoch 7 loss: 0.3874: 100%|████████████████████████████████████| 467/467 [00:27<00:00, 17.24it/s]\n",
      "epoch 7 loss: 0.4199: 100%|████████████████████████████████████| 117/117 [00:02<00:00, 54.41it/s]\n"
     ]
    },
    {
     "name": "stdout",
     "output_type": "stream",
     "text": [
      "821\n",
      "_____________________________________\n",
      " \n"
     ]
    },
    {
     "name": "stderr",
     "output_type": "stream",
     "text": [
      "epoch 8 loss: 0.4146: 100%|████████████████████████████████████| 467/467 [00:26<00:00, 17.68it/s]\n",
      "epoch 8 loss: 0.4077: 100%|████████████████████████████████████| 117/117 [00:02<00:00, 53.05it/s]\n"
     ]
    },
    {
     "name": "stdout",
     "output_type": "stream",
     "text": [
      "829\n",
      "_____________________________________\n",
      " \n"
     ]
    },
    {
     "name": "stderr",
     "output_type": "stream",
     "text": [
      "epoch 9 loss: 0.3890: 100%|████████████████████████████████████| 467/467 [00:26<00:00, 17.34it/s]\n",
      "epoch 9 loss: 0.3958: 100%|████████████████████████████████████| 117/117 [00:02<00:00, 51.40it/s]\n"
     ]
    },
    {
     "name": "stdout",
     "output_type": "stream",
     "text": [
      "835\n",
      "_____________________________________\n",
      " \n"
     ]
    },
    {
     "name": "stderr",
     "output_type": "stream",
     "text": [
      "epoch 10 loss: 0.3927: 100%|███████████████████████████████████| 467/467 [00:26<00:00, 17.30it/s]\n",
      "epoch 10 loss: 0.3974: 100%|███████████████████████████████████| 117/117 [00:02<00:00, 58.00it/s]\n"
     ]
    },
    {
     "name": "stdout",
     "output_type": "stream",
     "text": [
      "834\n",
      "_____________________________________\n",
      " \n"
     ]
    },
    {
     "name": "stderr",
     "output_type": "stream",
     "text": [
      "epoch 11 loss: 0.3593: 100%|███████████████████████████████████| 467/467 [00:26<00:00, 17.45it/s]\n",
      "epoch 11 loss: 0.3946: 100%|███████████████████████████████████| 117/117 [00:02<00:00, 50.71it/s]\n"
     ]
    },
    {
     "name": "stdout",
     "output_type": "stream",
     "text": [
      "835\n",
      "_____________________________________\n",
      " \n"
     ]
    },
    {
     "name": "stderr",
     "output_type": "stream",
     "text": [
      "epoch 12 loss: 0.3631: 100%|███████████████████████████████████| 467/467 [00:26<00:00, 17.40it/s]\n",
      "epoch 12 loss: 0.4030: 100%|███████████████████████████████████| 117/117 [00:02<00:00, 51.54it/s]\n"
     ]
    },
    {
     "name": "stdout",
     "output_type": "stream",
     "text": [
      "833\n",
      "_____________________________________\n",
      " \n"
     ]
    },
    {
     "name": "stderr",
     "output_type": "stream",
     "text": [
      "epoch 13 loss: 0.3781: 100%|███████████████████████████████████| 467/467 [00:26<00:00, 17.31it/s]\n",
      "epoch 13 loss: 0.4175: 100%|███████████████████████████████████| 117/117 [00:02<00:00, 52.77it/s]\n"
     ]
    },
    {
     "name": "stdout",
     "output_type": "stream",
     "text": [
      "828\n",
      "_____________________________________\n",
      " \n"
     ]
    },
    {
     "name": "stderr",
     "output_type": "stream",
     "text": [
      "epoch 14 loss: 0.3799: 100%|███████████████████████████████████| 467/467 [00:26<00:00, 17.69it/s]\n",
      "epoch 14 loss: 0.4030: 100%|███████████████████████████████████| 117/117 [00:02<00:00, 52.64it/s]\n"
     ]
    },
    {
     "name": "stdout",
     "output_type": "stream",
     "text": [
      "833\n",
      "_____________________________________\n",
      " \n"
     ]
    },
    {
     "name": "stderr",
     "output_type": "stream",
     "text": [
      "epoch 15 loss: 0.3477: 100%|███████████████████████████████████| 467/467 [00:26<00:00, 17.61it/s]\n",
      "epoch 15 loss: 0.3856: 100%|███████████████████████████████████| 117/117 [00:02<00:00, 53.80it/s]\n"
     ]
    },
    {
     "name": "stdout",
     "output_type": "stream",
     "text": [
      "840\n",
      "_____________________________________\n",
      " \n"
     ]
    },
    {
     "name": "stderr",
     "output_type": "stream",
     "text": [
      "epoch 16 loss: 0.3764: 100%|███████████████████████████████████| 467/467 [00:26<00:00, 17.68it/s]\n",
      "epoch 16 loss: 0.3955: 100%|███████████████████████████████████| 117/117 [00:02<00:00, 57.36it/s]\n"
     ]
    },
    {
     "name": "stdout",
     "output_type": "stream",
     "text": [
      "835\n",
      "_____________________________________\n",
      " \n"
     ]
    },
    {
     "name": "stderr",
     "output_type": "stream",
     "text": [
      "epoch 17 loss: 0.3591: 100%|███████████████████████████████████| 467/467 [00:27<00:00, 17.16it/s]\n",
      "epoch 17 loss: 0.3902: 100%|███████████████████████████████████| 117/117 [00:02<00:00, 55.35it/s]\n"
     ]
    },
    {
     "name": "stdout",
     "output_type": "stream",
     "text": [
      "839\n",
      "_____________________________________\n",
      " \n"
     ]
    },
    {
     "name": "stderr",
     "output_type": "stream",
     "text": [
      "epoch 18 loss: 0.3621: 100%|███████████████████████████████████| 467/467 [00:26<00:00, 17.65it/s]\n",
      "epoch 18 loss: 0.4042: 100%|███████████████████████████████████| 117/117 [00:02<00:00, 51.73it/s]\n"
     ]
    },
    {
     "name": "stdout",
     "output_type": "stream",
     "text": [
      "831\n",
      "_____________________________________\n",
      " \n"
     ]
    },
    {
     "name": "stderr",
     "output_type": "stream",
     "text": [
      "epoch 19 loss: 0.3344: 100%|███████████████████████████████████| 467/467 [00:26<00:00, 17.87it/s]\n",
      "epoch 19 loss: 0.3952: 100%|███████████████████████████████████| 117/117 [00:02<00:00, 54.72it/s]\n"
     ]
    },
    {
     "name": "stdout",
     "output_type": "stream",
     "text": [
      "838\n"
     ]
    },
    {
     "name": "stderr",
     "output_type": "stream",
     "text": [
      "epoch 19 loss: 1.1924: 100%|█████████████████████████████████████| 65/65 [00:01<00:00, 56.40it/s]\n"
     ]
    },
    {
     "name": "stdout",
     "output_type": "stream",
     "text": [
      "test mean_macro_auc=  0.8094607490767953\n",
      "test F1_score=  0.611783925513495\n",
      "test precision=  0.631700249327921\n",
      "test recall=  0.6710359090871777\n",
      "test acc=  0.582131167414232\n",
      "train data B\n",
      "train data size : 5501\n",
      "train label class :  [ 742.  859. 3900. 5501.    0.    0.    0.    0.]\n",
      "train data N\n",
      "train data size : 8516\n",
      "train label class :  [1462. 1769. 5285.    0. 8516.    0.    0.    0.]\n",
      "train data H\n",
      "train data size : 20616\n",
      "train label class :  [11152.   557.  8907.     0.     0. 20616.     0.     0.]\n",
      "train data L\n",
      "train data size : 16824\n",
      "train label class :  [13511.  1158.  2155.     0.     0.     0. 16824.     0.]\n",
      "train data T\n",
      "train data size : 6599\n",
      "train label class :  [4098.  577. 1924.    0.    0.    0.    0. 6599.]\n",
      "total train data shape =  (58056, 1000, 1)\n",
      "total train label shape =  (58056, 8)\n",
      "total train data class =  [30965.  4920. 22171.  5501.  8516. 20616. 16824.  6599.]\n",
      "val data B\n",
      "val data size : 1376\n",
      "val label class :  [176. 239. 961.]\n",
      "val data N\n",
      "val data size : 2130\n",
      "val label class :  [ 364.  456. 1310.]\n",
      "val data H\n",
      "val data size : 5154\n",
      "val label class :  [2753.  118. 2283.]\n",
      "val data L\n",
      "val data size : 4206\n",
      "val label class :  [3237.  356.  613.]\n",
      "val data T\n",
      "val data size : 1650\n",
      "val label class :  [978. 181. 491.]\n",
      "total val data shape =  (14516, 1000, 1)\n",
      "total val label shape =  (14516, 3)\n",
      "total val data class =  [7508. 1350. 5658.]\n",
      "test data A\n",
      "test data size : 10343\n",
      "test label class :  [1752.  570. 8021.]\n",
      "total test data shape =  (10343, 1000, 1)\n",
      "total test label shape =  (10343, 3)\n",
      "total test data class =  [1752.  570. 8021.]\n",
      "base_model=cnn_Ag\n",
      "_____________________________________\n",
      " \n"
     ]
    },
    {
     "name": "stderr",
     "output_type": "stream",
     "text": [
      "epoch 0 loss: 0.5034: 100%|████████████████████████████████████| 454/454 [00:26<00:00, 17.43it/s]\n",
      "epoch 0 loss: 0.5460: 100%|████████████████████████████████████| 114/114 [00:02<00:00, 53.61it/s]\n"
     ]
    },
    {
     "name": "stdout",
     "output_type": "stream",
     "text": [
      "772\n",
      "_____________________________________\n",
      " \n"
     ]
    },
    {
     "name": "stderr",
     "output_type": "stream",
     "text": [
      "epoch 1 loss: 0.4429: 100%|████████████████████████████████████| 454/454 [00:26<00:00, 17.13it/s]\n",
      "epoch 1 loss: 0.4855: 100%|████████████████████████████████████| 114/114 [00:02<00:00, 53.33it/s]\n"
     ]
    },
    {
     "name": "stdout",
     "output_type": "stream",
     "text": [
      "802\n",
      "_____________________________________\n",
      " \n"
     ]
    },
    {
     "name": "stderr",
     "output_type": "stream",
     "text": [
      "epoch 2 loss: 0.4532: 100%|████████████████████████████████████| 454/454 [00:25<00:00, 17.72it/s]\n",
      "epoch 2 loss: 0.4361: 100%|████████████████████████████████████| 114/114 [00:01<00:00, 58.37it/s]\n"
     ]
    },
    {
     "name": "stdout",
     "output_type": "stream",
     "text": [
      "815\n",
      "_____________________________________\n",
      " \n"
     ]
    },
    {
     "name": "stderr",
     "output_type": "stream",
     "text": [
      "epoch 3 loss: 0.4500: 100%|████████████████████████████████████| 454/454 [00:25<00:00, 17.64it/s]\n",
      "epoch 3 loss: 0.4233: 100%|████████████████████████████████████| 114/114 [00:02<00:00, 45.15it/s]\n"
     ]
    },
    {
     "name": "stdout",
     "output_type": "stream",
     "text": [
      "820\n",
      "_____________________________________\n",
      " \n"
     ]
    },
    {
     "name": "stderr",
     "output_type": "stream",
     "text": [
      "epoch 4 loss: 0.4005: 100%|████████████████████████████████████| 454/454 [00:26<00:00, 17.19it/s]\n",
      "epoch 4 loss: 0.4238: 100%|████████████████████████████████████| 114/114 [00:02<00:00, 54.45it/s]\n"
     ]
    },
    {
     "name": "stdout",
     "output_type": "stream",
     "text": [
      "827\n",
      "_____________________________________\n",
      " \n"
     ]
    },
    {
     "name": "stderr",
     "output_type": "stream",
     "text": [
      "epoch 5 loss: 0.3857: 100%|████████████████████████████████████| 454/454 [00:27<00:00, 16.81it/s]\n",
      "epoch 5 loss: 0.4140: 100%|████████████████████████████████████| 114/114 [00:02<00:00, 53.73it/s]\n"
     ]
    },
    {
     "name": "stdout",
     "output_type": "stream",
     "text": [
      "828\n",
      "_____________________________________\n",
      " \n"
     ]
    },
    {
     "name": "stderr",
     "output_type": "stream",
     "text": [
      "epoch 6 loss: 0.3826: 100%|████████████████████████████████████| 454/454 [00:26<00:00, 17.40it/s]\n",
      "epoch 6 loss: 0.4213: 100%|████████████████████████████████████| 114/114 [00:02<00:00, 51.26it/s]\n"
     ]
    },
    {
     "name": "stdout",
     "output_type": "stream",
     "text": [
      "826\n",
      "_____________________________________\n",
      " \n"
     ]
    },
    {
     "name": "stderr",
     "output_type": "stream",
     "text": [
      "epoch 7 loss: 0.3921: 100%|████████████████████████████████████| 454/454 [00:26<00:00, 16.85it/s]\n",
      "epoch 7 loss: 0.4548: 100%|████████████████████████████████████| 114/114 [00:02<00:00, 52.57it/s]\n"
     ]
    },
    {
     "name": "stdout",
     "output_type": "stream",
     "text": [
      "803\n",
      "_____________________________________\n",
      " \n"
     ]
    },
    {
     "name": "stderr",
     "output_type": "stream",
     "text": [
      "epoch 8 loss: 0.3871: 100%|████████████████████████████████████| 454/454 [00:25<00:00, 17.50it/s]\n",
      "epoch 8 loss: 0.4044: 100%|████████████████████████████████████| 114/114 [00:02<00:00, 54.57it/s]\n"
     ]
    },
    {
     "name": "stdout",
     "output_type": "stream",
     "text": [
      "833\n",
      "_____________________________________\n",
      " \n"
     ]
    },
    {
     "name": "stderr",
     "output_type": "stream",
     "text": [
      "epoch 9 loss: 0.3901: 100%|████████████████████████████████████| 454/454 [00:25<00:00, 17.47it/s]\n",
      "epoch 9 loss: 0.4039: 100%|████████████████████████████████████| 114/114 [00:02<00:00, 56.93it/s]\n"
     ]
    },
    {
     "name": "stdout",
     "output_type": "stream",
     "text": [
      "833\n",
      "_____________________________________\n",
      " \n"
     ]
    },
    {
     "name": "stderr",
     "output_type": "stream",
     "text": [
      "epoch 10 loss: 0.3820: 100%|███████████████████████████████████| 454/454 [00:25<00:00, 17.71it/s]\n",
      "epoch 10 loss: 0.3973: 100%|███████████████████████████████████| 114/114 [00:02<00:00, 53.09it/s]\n"
     ]
    },
    {
     "name": "stdout",
     "output_type": "stream",
     "text": [
      "835\n",
      "_____________________________________\n",
      " \n"
     ]
    },
    {
     "name": "stderr",
     "output_type": "stream",
     "text": [
      "epoch 11 loss: 0.3873: 100%|███████████████████████████████████| 454/454 [00:25<00:00, 17.55it/s]\n",
      "epoch 11 loss: 0.4065: 100%|███████████████████████████████████| 114/114 [00:02<00:00, 56.34it/s]\n"
     ]
    },
    {
     "name": "stdout",
     "output_type": "stream",
     "text": [
      "833\n",
      "_____________________________________\n",
      " \n"
     ]
    },
    {
     "name": "stderr",
     "output_type": "stream",
     "text": [
      "epoch 12 loss: 0.3707: 100%|███████████████████████████████████| 454/454 [00:25<00:00, 17.59it/s]\n",
      "epoch 12 loss: 0.3901: 100%|███████████████████████████████████| 114/114 [00:01<00:00, 57.47it/s]\n"
     ]
    },
    {
     "name": "stdout",
     "output_type": "stream",
     "text": [
      "838\n",
      "_____________________________________\n",
      " \n"
     ]
    },
    {
     "name": "stderr",
     "output_type": "stream",
     "text": [
      "epoch 13 loss: 0.3751: 100%|███████████████████████████████████| 454/454 [00:25<00:00, 17.67it/s]\n",
      "epoch 13 loss: 0.4132: 100%|███████████████████████████████████| 114/114 [00:01<00:00, 59.42it/s]\n"
     ]
    },
    {
     "name": "stdout",
     "output_type": "stream",
     "text": [
      "828\n",
      "_____________________________________\n",
      " \n"
     ]
    },
    {
     "name": "stderr",
     "output_type": "stream",
     "text": [
      "epoch 14 loss: 0.3806: 100%|███████████████████████████████████| 454/454 [00:26<00:00, 17.34it/s]\n",
      "epoch 14 loss: 0.3933: 100%|███████████████████████████████████| 114/114 [00:02<00:00, 50.93it/s]\n"
     ]
    },
    {
     "name": "stdout",
     "output_type": "stream",
     "text": [
      "839\n",
      "_____________________________________\n",
      " \n"
     ]
    },
    {
     "name": "stderr",
     "output_type": "stream",
     "text": [
      "epoch 15 loss: 0.3729: 100%|███████████████████████████████████| 454/454 [00:25<00:00, 17.64it/s]\n",
      "epoch 15 loss: 0.3855: 100%|███████████████████████████████████| 114/114 [00:02<00:00, 52.61it/s]\n"
     ]
    },
    {
     "name": "stdout",
     "output_type": "stream",
     "text": [
      "842\n",
      "_____________________________________\n",
      " \n"
     ]
    },
    {
     "name": "stderr",
     "output_type": "stream",
     "text": [
      "epoch 16 loss: 0.3840: 100%|███████████████████████████████████| 454/454 [00:25<00:00, 17.47it/s]\n",
      "epoch 16 loss: 0.5610: 100%|███████████████████████████████████| 114/114 [00:01<00:00, 57.10it/s]\n"
     ]
    },
    {
     "name": "stdout",
     "output_type": "stream",
     "text": [
      "745\n",
      "_____________________________________\n",
      " \n"
     ]
    },
    {
     "name": "stderr",
     "output_type": "stream",
     "text": [
      "epoch 17 loss: 0.3581: 100%|███████████████████████████████████| 454/454 [00:26<00:00, 17.21it/s]\n",
      "epoch 17 loss: 0.3947: 100%|███████████████████████████████████| 114/114 [00:02<00:00, 53.53it/s]\n"
     ]
    },
    {
     "name": "stdout",
     "output_type": "stream",
     "text": [
      "841\n",
      "_____________________________________\n",
      " \n"
     ]
    },
    {
     "name": "stderr",
     "output_type": "stream",
     "text": [
      "epoch 18 loss: 0.3511: 100%|███████████████████████████████████| 454/454 [00:25<00:00, 17.82it/s]\n",
      "epoch 18 loss: 0.3854: 100%|███████████████████████████████████| 114/114 [00:01<00:00, 58.54it/s]\n"
     ]
    },
    {
     "name": "stdout",
     "output_type": "stream",
     "text": [
      "841\n",
      "_____________________________________\n",
      " \n"
     ]
    },
    {
     "name": "stderr",
     "output_type": "stream",
     "text": [
      "epoch 19 loss: 0.3811: 100%|███████████████████████████████████| 454/454 [00:26<00:00, 17.46it/s]\n",
      "epoch 19 loss: 0.4032: 100%|███████████████████████████████████| 114/114 [00:02<00:00, 56.39it/s]\n"
     ]
    },
    {
     "name": "stdout",
     "output_type": "stream",
     "text": [
      "837\n"
     ]
    },
    {
     "name": "stderr",
     "output_type": "stream",
     "text": [
      "epoch 19 loss: 0.7905: 100%|█████████████████████████████████████| 81/81 [00:01<00:00, 50.33it/s]\n"
     ]
    },
    {
     "name": "stdout",
     "output_type": "stream",
     "text": [
      "test mean_macro_auc=  0.8366170718171636\n",
      "test F1_score=  0.6475822123218565\n",
      "test precision=  0.6692016059123667\n",
      "test recall=  0.7187709033194257\n",
      "test acc=  0.672338779851107\n",
      "train data N\n",
      "train data size : 8516\n",
      "train label class :  [1462. 1769. 5285. 8516.    0.    0.    0.    0.]\n",
      "train data H\n",
      "train data size : 20616\n",
      "train label class :  [11152.   557.  8907.     0. 20616.     0.     0.     0.]\n",
      "train data A\n",
      "train data size : 8274\n",
      "train label class :  [1393.  480. 6401.    0.    0. 8274.    0.    0.]\n",
      "train data B\n",
      "train data size : 5501\n",
      "train label class :  [ 742.  859. 3900.    0.    0.    0. 5501.    0.]\n",
      "train data T\n",
      "train data size : 6599\n",
      "train label class :  [4098.  577. 1924.    0.    0.    0.    0. 6599.]\n",
      "total train data shape =  (49506, 1000, 1)\n",
      "total train label shape =  (49506, 8)\n",
      "total train data class =  [18847.  4242. 26417.  8516. 20616.  8274.  5501.  6599.]\n",
      "val data N\n",
      "val data size : 2130\n",
      "val label class :  [ 364.  456. 1310.]\n",
      "val data H\n",
      "val data size : 5154\n",
      "val label class :  [2753.  118. 2283.]\n",
      "val data A\n",
      "val data size : 2069\n",
      "val label class :  [ 359.   90. 1620.]\n",
      "val data B\n",
      "val data size : 1376\n",
      "val label class :  [176. 239. 961.]\n",
      "val data T\n",
      "val data size : 1650\n",
      "val label class :  [978. 181. 491.]\n",
      "total val data shape =  (12379, 1000, 1)\n",
      "total val label shape =  (12379, 3)\n",
      "total val data class =  [4630. 1084. 6665.]\n",
      "test data L\n",
      "test data size : 21030\n",
      "test label class :  [16748.  1514.  2768.]\n",
      "total test data shape =  (21030, 1000, 1)\n",
      "total test label shape =  (21030, 3)\n",
      "total test data class =  [16748.  1514.  2768.]\n",
      "base_model=cnn_Ag\n",
      "_____________________________________\n",
      " \n"
     ]
    },
    {
     "name": "stderr",
     "output_type": "stream",
     "text": [
      "epoch 0 loss: 0.5086: 100%|████████████████████████████████████| 387/387 [00:21<00:00, 17.62it/s]\n",
      "epoch 0 loss: 0.5122: 100%|██████████████████████████████████████| 97/97 [00:01<00:00, 54.57it/s]\n"
     ]
    },
    {
     "name": "stdout",
     "output_type": "stream",
     "text": [
      "776\n",
      "_____________________________________\n",
      " \n"
     ]
    },
    {
     "name": "stderr",
     "output_type": "stream",
     "text": [
      "epoch 1 loss: 0.4674: 100%|████████████████████████████████████| 387/387 [00:21<00:00, 17.68it/s]\n",
      "epoch 1 loss: 0.5650: 100%|██████████████████████████████████████| 97/97 [00:01<00:00, 53.45it/s]\n"
     ]
    },
    {
     "name": "stdout",
     "output_type": "stream",
     "text": [
      "756\n",
      "_____________________________________\n",
      " \n"
     ]
    },
    {
     "name": "stderr",
     "output_type": "stream",
     "text": [
      "epoch 2 loss: 0.4473: 100%|████████████████████████████████████| 387/387 [00:21<00:00, 17.60it/s]\n",
      "epoch 2 loss: 0.4336: 100%|██████████████████████████████████████| 97/97 [00:01<00:00, 52.62it/s]\n"
     ]
    },
    {
     "name": "stdout",
     "output_type": "stream",
     "text": [
      "815\n",
      "_____________________________________\n",
      " \n"
     ]
    },
    {
     "name": "stderr",
     "output_type": "stream",
     "text": [
      "epoch 3 loss: 0.4446: 100%|████████████████████████████████████| 387/387 [00:22<00:00, 17.34it/s]\n",
      "epoch 3 loss: 0.4464: 100%|██████████████████████████████████████| 97/97 [00:01<00:00, 52.24it/s]\n"
     ]
    },
    {
     "name": "stdout",
     "output_type": "stream",
     "text": [
      "809\n",
      "_____________________________________\n",
      " \n"
     ]
    },
    {
     "name": "stderr",
     "output_type": "stream",
     "text": [
      "epoch 4 loss: 0.4300:  22%|████████                             | 84/387 [00:04<00:16, 17.95it/s]"
     ]
    }
   ],
   "source": [
    "# 库函数的调用\n",
    "from models.DG_models import generate_model\n",
    "from datasets import train_loader,val_loader,test_loader\n",
    "import pandas as pd\n",
    "import numpy as np\n",
    "import ast\n",
    "import matplotlib.pyplot as pltac\n",
    "import os\n",
    "os.environ[\"CUDA_VISIBLE_DEVICES\"] ='2'\n",
    "device='cuda:0'\n",
    "import wfdb\n",
    "from sklearn.preprocessing import StandardScaler, MultiLabelBinarizer\n",
    "from scipy import signal\n",
    "from tqdm import tqdm\n",
    "import math\n",
    "import time\n",
    "import torch\n",
    "from torch import nn\n",
    "from torchsummary import summary\n",
    "import sklearn.metrics\n",
    "import csv\n",
    "from utils import *\n",
    "\n",
    "warm_epoch=2\n",
    "total_epoch=20\n",
    "base_lr=2e-3\n",
    "batch_size=128\n",
    "max_lr=base_lr*batch_size/256\n",
    "min_lr=max_lr/100\n",
    "numleads=1\n",
    "# domain generalization\n",
    "DG_method=None\n",
    "# None #'DG_GR' #'MMD' # 'CORAL'  # 'IRM' # 'CausIRL_MMD' # 'CausIRL_CORAL' # 'cls_awr_ali' # 'DG_GR+IRM' \n",
    "# 'DG_GR_ensemble' # 'origin_add_fft_amp' # 'origin_add_fft_phase' # 'origin_add_fft_amp_phase' # 'origin_add_fft_amp_DGGR'\n",
    "# 'DGGR_smooth' #'origin_add_fft_amp_DGGR_smooth'\n",
    "\n",
    "add_recons=None #'fft','ksqi','psqi','ssqi','bass',None\n",
    "ensemble_recons=['fft','ksqi'] # ['fft','ksqi','psqi','ssqi','bass'] \n",
    "MMD_iter=4\n",
    "MMD_gamma=1.\n",
    "irm_lambda=1e2\n",
    "irm_penalty_anneal_iters=10000000 # don't penalty #500\n",
    "DGGR_smooth_eps=0.4\n",
    "ali_weight=0.5\n",
    "train_val_test_split=[0.8,0.2,1] # 1 for inter\n",
    "smote=False\n",
    "SAM_flag=False\n",
    "base_optimizer=torch.optim.Adam\n",
    "loss_fn=nn.CrossEntropyLoss()\n",
    "# cnn_Ag\n",
    "# xresnet18,xresnet34,xresnet50,xresnet101,xresnet152\n",
    "# inception1d\n",
    "# resnet18,resnet34,resnet50,resnet101,resnet152\n",
    "# resnet1d_wang\n",
    "# seresnet_big_18,seresnet_big_34,seresnet_big_50,seresnet_big_101,seresnet_big_152\n",
    "# densenet1d\n",
    "\n",
    "base_model='cnn_Ag'\n",
    "exp_num=10\n",
    "if DG_method in ['DGGR_smooth','origin_add_fft_amp_DGGR_smooth'] :\n",
    "    param_flag='smote-'+str(smote)+'-SAM-'+str(SAM_flag)+'-DG_method-'+str(DG_method)+'-eps-'+str(int(DGGR_smooth_eps*100))\n",
    "else:\n",
    "    param_flag='smote-'+str(smote)+'-SAM-'+str(SAM_flag)+'-DG_method-'+str(DG_method)\n",
    "\n",
    "print('ok')\n",
    "\n",
    "# 10次实验取平均\n",
    "\n",
    "auc_dict_list=[]\n",
    "pre_dict_list=[]\n",
    "rec_dict_list=[]\n",
    "f1_dict_list=[]\n",
    "f1_normal_dict_list=[]\n",
    "f1_AF_dict_list=[]\n",
    "f1_other_dict_list=[]\n",
    "acc_dict_list=[]\n",
    "\n",
    "for exp_idx in range(exp_num):\n",
    "    \n",
    "    auc_dict={'T':{},'A':{},'L':{},'N':{},'H':{},'B':{}}\n",
    "    pre_dict={'T':{},'A':{},'L':{},'N':{},'H':{},'B':{}}\n",
    "    rec_dict={'T':{},'A':{},'L':{},'N':{},'H':{},'B':{}}\n",
    "    f1_dict={'T':{},'A':{},'L':{},'N':{},'H':{},'B':{}}\n",
    "    f1_normal_dict={'T':{},'A':{},'L':{},'N':{},'H':{},'B':{}}\n",
    "    f1_AF_dict={'T':{},'A':{},'L':{},'N':{},'H':{},'B':{}}\n",
    "    f1_other_dict={'T':{},'A':{},'L':{},'N':{},'H':{},'B':{}}\n",
    "    acc_dict={'T':{},'A':{},'L':{},'N':{},'H':{},'B':{}}\n",
    "\n",
    "    full_list=['T','A','L','N','H','B']\n",
    "\n",
    "    for jj in full_list:\n",
    "        ii=list(set(full_list)-set(jj))\n",
    "        train_data_list=ii    # T,A,L,N,H,B       \n",
    "        val_data_list=ii\n",
    "        test_data_list=[jj]\n",
    "        \n",
    "        train_datasloader=train_loader(dataname=train_data_list,train_val_test_split=train_val_test_split,bs=batch_size,num_workers=2,smote=smote).loader()\n",
    "        val_datasloader=val_loader(dataname=val_data_list,train_val_test_split=train_val_test_split,bs=batch_size,num_workers=2).loader()\n",
    "        test_datasloader=test_loader(dataname=test_data_list,train_val_test_split=train_val_test_split,bs=batch_size,num_workers=2).loader()\n",
    "\n",
    "        recons_model=None\n",
    "        if DG_method=='DG_GR_ensemble':\n",
    "            model={}\n",
    "            optimizer={}\n",
    "            recons_model={}\n",
    "            model['origin']=generate_model(base_model=base_model,input_channels=numleads, num_classes=3,DG_method=DG_method,domain_classes=len(train_data_list)).to(device)\n",
    "            optimizer['origin']=generate_optimizer(base_optimizer=base_optimizer,model_parameters=model['origin'].parameters(),SAM_flag=SAM_flag,weight_decay=1e-4)\n",
    "            for model_type in ensemble_recons:\n",
    "                model[model_type]=generate_model(base_model=base_model,input_channels=numleads, num_classes=3,DG_method=DG_method,domain_classes=len(train_data_list)).to(device)\n",
    "                recons_model_name=find_pretrained_model_name(train_data_list,model_type)\n",
    "                recons_model[model_type]=torch.load(recons_model_name).to(device)\n",
    "                recons_model[model_type].eval()\n",
    "                optimizer[model_type]=generate_optimizer(base_optimizer=base_optimizer,model_parameters=model[model_type].parameters(),SAM_flag=SAM_flag,weight_decay=1e-4)\n",
    "\n",
    "        elif add_recons:\n",
    "            recons_model_name=find_pretrained_model_name(train_data_list,add_recons)\n",
    "            recons_model=torch.load(recons_model_name).to(device)\n",
    "            recons_model.eval()\n",
    "            model=generate_model(base_model=base_model,input_channels=numleads*2, num_classes=3,DG_method=DG_method,domain_classes=len(train_data_list)).to(device)\n",
    "            optimizer=generate_optimizer(base_optimizer=base_optimizer,model_parameters=model.parameters(),SAM_flag=SAM_flag,weight_decay=1e-4)\n",
    "        elif DG_method in ['origin_add_fft_amp','origin_add_fft_phase','origin_add_fft_amp_DGGR','origin_add_fft_amp_DGGR_smooth']:\n",
    "            model=generate_model(base_model=base_model,input_channels=numleads*2, num_classes=3,DG_method=DG_method,domain_classes=len(train_data_list)).to(device)\n",
    "            optimizer=generate_optimizer(base_optimizer=base_optimizer,model_parameters=model.parameters(),SAM_flag=SAM_flag,weight_decay=1e-4)\n",
    "        elif DG_method=='origin_add_fft_amp_phase':\n",
    "            model=generate_model(base_model=base_model,input_channels=numleads*3, num_classes=3,DG_method=DG_method,domain_classes=len(train_data_list)).to(device)\n",
    "            optimizer=generate_optimizer(base_optimizer=base_optimizer,model_parameters=model.parameters(),SAM_flag=SAM_flag,weight_decay=1e-4)\n",
    "        else:\n",
    "            model=generate_model(base_model=base_model,input_channels=numleads, num_classes=3,DG_method=DG_method,domain_classes=len(train_data_list)).to(device)\n",
    "            optimizer=generate_optimizer(base_optimizer=base_optimizer,model_parameters=model.parameters(),SAM_flag=SAM_flag,weight_decay=1e-4)\n",
    "            \n",
    "        best_val_acc = 0.0\n",
    "        best_model_weights = None\n",
    "        \n",
    "        for epoch in range(total_epoch):\n",
    "            print('_____________________________________')\n",
    "            print(' ')\n",
    "            time.sleep(0.1)\n",
    "            train_one_epoch(epoch, warm_epoch, total_epoch, model,max_lr,min_lr, loss_fn, optimizer, \\\n",
    "                            base_optimizer, train_datasloader, device, \\\n",
    "                             DG_method=DG_method,MMD_iter=MMD_iter,MMD_gamma=MMD_gamma, \\\n",
    "                             irm_lambda=irm_lambda,irm_penalty_anneal_iters=irm_penalty_anneal_iters, \\\n",
    "                            ali_weight=ali_weight,SAM_operate=SAM_flag,recons_model=recons_model,add_recons=add_recons,  \\\n",
    "                           DGGR_smooth_eps=DGGR_smooth_eps)\n",
    "            time.sleep(0.1)\n",
    "            _,_,_,_,_,_,_,acc_val=val_one_epoch(epoch,warm_epoch, total_epoch, model, loss_fn, val_datasloader, device,DG_method=DG_method,class_F1=True,recons_model=recons_model,add_recons=add_recons) \n",
    "            print(acc_val)\n",
    "            \n",
    "            if int(acc_val) > best_val_acc:\n",
    "                best_val_acc = int(acc_val)\n",
    "                best_model_weights = model.state_dict()  # Save the current model weights\n",
    "            \n",
    "        \n",
    "        # Load the best model weights before testing\n",
    "        model.load_state_dict(best_model_weights)\n",
    "\n",
    "        auc_dict[jj],pre_dict[jj],rec_dict[jj],f1_dict[jj],f1_normal_dict[jj],f1_AF_dict[jj],f1_other_dict[jj],acc_dict[jj]=  \\\n",
    "            test_one_epoch(epoch,warm_epoch, total_epoch, model, loss_fn, test_datasloader, device,DG_method=DG_method,class_F1=True,recons_model=recons_model,add_recons=add_recons) \n",
    "        \n",
    "    auc_dict_list.append(auc_dict)    \n",
    "    pre_dict_list.append(pre_dict)  \n",
    "    rec_dict_list.append(rec_dict)  \n",
    "    f1_dict_list.append(f1_dict)  \n",
    "    f1_normal_dict_list.append(f1_normal_dict)  \n",
    "    f1_AF_dict_list.append(f1_AF_dict)  \n",
    "    f1_other_dict_list.append(f1_other_dict)  \n",
    "    acc_dict_list.append(acc_dict)  \n",
    "\n",
    "auc_dict=avg_dict(auc_dict_list)\n",
    "pre_dict=avg_dict(pre_dict_list)\n",
    "rec_dict=avg_dict(rec_dict_list)\n",
    "f1_dict=avg_dict(f1_dict_list)\n",
    "f1_normal_dict=avg_dict(f1_normal_dict_list)\n",
    "f1_AF_dict=avg_dict(f1_AF_dict_list)\n",
    "f1_other_dict=avg_dict(f1_other_dict_list)\n",
    "acc_dict=avg_dict(acc_dict_list)\n",
    "\n",
    "# 写入csv\n",
    "\n",
    "header=[\n",
    "        'train\\\\test\\t',\n",
    "        'auc','pre','rec','f1','normal-f1','AF-f1','other-f1','acc\\t',]\n",
    "\n",
    "        # round\n",
    "\n",
    "results=[\n",
    "        [\n",
    "        'ALNHB',\n",
    "        auc_dict['T'],pre_dict['T'],rec_dict['T'],f1_dict['T'],f1_normal_dict['T'],f1_AF_dict['T'],f1_other_dict['T'],acc_dict['T']+'\\t',\n",
    "         ],\n",
    "        [\n",
    "        'TLNHB',\n",
    "        auc_dict['A'],pre_dict['A'],rec_dict['A'],f1_dict['A'],f1_normal_dict['A'],f1_AF_dict['A'],f1_other_dict['A'],acc_dict['A']+'\\t',\n",
    "         ],\n",
    "        [\n",
    "        'TANHB',\n",
    "        auc_dict['L'],pre_dict['L'],rec_dict['L'],f1_dict['L'],f1_normal_dict['L'],f1_AF_dict['L'],f1_other_dict['L'],acc_dict['L']+'\\t',\n",
    "         ],\n",
    "        [\n",
    "        'TALHB',\n",
    "        auc_dict['N'],pre_dict['N'],rec_dict['N'],f1_dict['N'],f1_normal_dict['N'],f1_AF_dict['N'],f1_other_dict['N'],acc_dict['N']+'\\t',\n",
    "         ],\n",
    "        [\n",
    "        'TALNB',\n",
    "        auc_dict['H'],pre_dict['H'],rec_dict['H'],f1_dict['H'],f1_normal_dict['H'],f1_AF_dict['H'],f1_other_dict['H'],acc_dict['H']+'\\t',\n",
    "         ],\n",
    "        [\n",
    "        'TALNH',\n",
    "        auc_dict['B'],pre_dict['B'],rec_dict['B'],f1_dict['B'],f1_normal_dict['B'],f1_AF_dict['B'],f1_other_dict['B'],acc_dict['B']+'\\t',\n",
    "         ],\n",
    "        ]\n",
    "\n",
    "with open('log/DGvary_shuffle_multi-one-addrecons-'+str(add_recons)+'-'+str(exp_num)+'timesmean-'+param_flag+'-'+base_model+'-'+str(int(time.time()))+'.csv','w',encoding='utf-8')as file_obj:\n",
    "    writer=csv.writer(file_obj)\n",
    "    writer.writerow(header)\n",
    "    for result in results:\n",
    "        writer.writerow(result)"
   ]
  },
  {
   "cell_type": "code",
   "execution_count": null,
   "id": "a596208c",
   "metadata": {},
   "outputs": [],
   "source": []
  }
 ],
 "metadata": {
  "kernelspec": {
   "display_name": "Python 3 (ipykernel)",
   "language": "python",
   "name": "python3"
  },
  "language_info": {
   "codemirror_mode": {
    "name": "ipython",
    "version": 3
   },
   "file_extension": ".py",
   "mimetype": "text/x-python",
   "name": "python",
   "nbconvert_exporter": "python",
   "pygments_lexer": "ipython3",
   "version": "3.10.0"
  }
 },
 "nbformat": 4,
 "nbformat_minor": 5
}
